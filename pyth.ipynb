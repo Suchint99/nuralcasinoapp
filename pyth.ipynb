{
 "cells": [
  {
   "cell_type": "code",
   "execution_count": 2,
   "metadata": {},
   "outputs": [
    {
     "name": "stdout",
     "output_type": "stream",
     "text": [
      "Predictions: [0.1957205  0.1957205  0.40332876 0.59904925]\n"
     ]
    }
   ],
   "source": [
    "import numpy as np\n",
    "\n",
    "# Define a simple neural network\n",
    "class NeuralNetwork:\n",
    "    def __init__(self, weights):\n",
    "        self.weights = weights\n",
    "\n",
    "    def predict(self, inputs):\n",
    "        return np.dot(inputs, self.weights)\n",
    "\n",
    "# Fitness function (mean squared error)\n",
    "def fitness(network, inputs, targets):\n",
    "    predictions = network.predict(inputs)\n",
    "    return -np.mean((predictions - targets) ** 2)\n",
    "\n",
    "# Genetic algorithm for neuroevolution\n",
    "def neuroevolution(population_size, generations):\n",
    "    # Initialize population with random weights\n",
    "    population = [NeuralNetwork(np.random.randn(2)) for _ in range(population_size)]\n",
    "    \n",
    "    for generation in range(generations):\n",
    "        # Evaluate fitness\n",
    "        fitness_scores = [fitness(network, inputs, targets) for network in population]\n",
    "        \n",
    "        # Select top-performing networks\n",
    "        sorted_indices = np.argsort(fitness_scores)[::-1]\n",
    "        selected = [population[i] for i in sorted_indices[:population_size // 2]]\n",
    "        \n",
    "        # Create next generation through mutation\n",
    "        new_population = []\n",
    "        for network in selected:\n",
    "            child_weights = network.weights + np.random.randn(2) * 0.1  # Mutation\n",
    "            new_population.append(NeuralNetwork(child_weights))\n",
    "        \n",
    "        population = selected + new_population\n",
    "    \n",
    "    return population[0]  # Return the best network\n",
    "\n",
    "# Example usage\n",
    "inputs = np.array([[0, 1], [0, 1], [1, 0], [1, 1]])\n",
    "targets = np.array([0, 1, 1, 0])  # XOR problem\n",
    "\n",
    "best_network = neuroevolution(population_size=20, generations=100)\n",
    "print(\"Predictions:\", best_network.predict(inputs))"
   ]
  },
  {
   "cell_type": "code",
   "execution_count": 1,
   "metadata": {},
   "outputs": [
    {
     "ename": "ModuleNotFoundError",
     "evalue": "No module named 'neat'",
     "output_type": "error",
     "traceback": [
      "\u001b[1;31m---------------------------------------------------------------------------\u001b[0m",
      "\u001b[1;31mModuleNotFoundError\u001b[0m                       Traceback (most recent call last)",
      "Cell \u001b[1;32mIn[1], line 1\u001b[0m\n\u001b[1;32m----> 1\u001b[0m \u001b[38;5;28;01mimport\u001b[39;00m \u001b[38;5;21;01mneat\u001b[39;00m\n\u001b[0;32m      2\u001b[0m \u001b[38;5;28;01mimport\u001b[39;00m \u001b[38;5;21;01mnumpy\u001b[39;00m \u001b[38;5;28;01mas\u001b[39;00m \u001b[38;5;21;01mnp\u001b[39;00m\n\u001b[0;32m      4\u001b[0m \u001b[38;5;66;03m# XOR input and output\u001b[39;00m\n",
      "\u001b[1;31mModuleNotFoundError\u001b[0m: No module named 'neat'"
     ]
    }
   ],
   "source": [
    "import neat\n",
    "import numpy as np\n",
    "\n",
    "# XOR input and output\n",
    "inputs = [(0, 0), (0, 1), (1, 0), (1, 1)]\n",
    "outputs = [0, 1, 1, 0]\n",
    "\n",
    "def eval_genomes(genomes, config):\n",
    "    for genome_id, genome in genomes:\n",
    "        net = neat.nn.FeedForwardNetwork.create(genome, config)\n",
    "        error = 0\n",
    "        for xi, xo in zip(inputs, outputs):\n",
    "            output = net.activate(xi)\n",
    "            error += (output[0] - xo) ** 2\n",
    "        genome.fitness = 1 - error  # Higher fitness = lower error\n",
    "\n",
    "config = neat.Config(neat.DefaultGenome, neat.DefaultReproduction,\n",
    "                     neat.DefaultSpeciesSet, neat.DefaultStagnation,\n",
    "                     'config-feedforward.txt')\n",
    "\n",
    "population = neat.Population(config)\n",
    "winner = population.run(eval_genomes, 300)  # Evolve for 300 generations\n",
    "\n",
    "# Test the best network\n",
    "winner_net = neat.nn.FeedForwardNetwork.create(winner, config)\n",
    "for xi in inputs:\n",
    "    print(f\"Input {xi}: {winner_net.activate(xi)[0]:.2f}\")"
   ]
  }
 ],
 "metadata": {
  "kernelspec": {
   "display_name": "Python 3",
   "language": "python",
   "name": "python3"
  },
  "language_info": {
   "codemirror_mode": {
    "name": "ipython",
    "version": 3
   },
   "file_extension": ".py",
   "mimetype": "text/x-python",
   "name": "python",
   "nbconvert_exporter": "python",
   "pygments_lexer": "ipython3",
   "version": "3.11.9"
  }
 },
 "nbformat": 4,
 "nbformat_minor": 2
}
