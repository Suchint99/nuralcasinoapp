{
 "cells": [
  {
   "cell_type": "code",
   "execution_count": 4,
   "metadata": {},
   "outputs": [],
   "source": [
    "import random\n",
    "\n",
    "class CasinoGame:\n",
    "    def __init__(self):\n",
    "        self.deck = [2, 3, 4, 5, 6, 7, 8, 9, 10, 10, 10, 11] * 4  # Simplified Blackjack deck\n",
    "\n",
    "    def play_round(self, bot_action_fn):\n",
    "        \"\"\"Simulate one round of Blackjack.\"\"\"\n",
    "        hand = [random.choice(self.deck), random.choice(self.deck)]\n",
    "        dealer_card = random.choice(self.deck)\n",
    "        chips = 100  # Starting chips\n",
    "\n",
    "        while sum(hand) < 21:\n",
    "            # Get bot's action from neural network\n",
    "            state = [sum(hand), dealer_card, chips]\n",
    "            action_probs = bot_action_fn(state)\n",
    "            action = np.argmax(action_probs)\n",
    "\n",
    "            if action == 0:  # Hit\n",
    "                hand.append(random.choice(self.deck))\n",
    "                if sum(hand) > 21:\n",
    "                    chips -= 10\n",
    "                    break\n",
    "            elif action == 1:  # Stand\n",
    "                # Dealer plays\n",
    "                dealer_hand = [dealer_card, random.choice(self.deck)]\n",
    "                while sum(dealer_hand) < 17:\n",
    "                    dealer_hand.append(random.choice(self.deck))\n",
    "                if sum(dealer_hand) > 21 or sum(hand) > sum(dealer_hand):\n",
    "                    chips += 10\n",
    "                else:\n",
    "                    chips -= 10\n",
    "                break\n",
    "        return chips"
   ]
  },
  {
   "cell_type": "code",
   "execution_count": 5,
   "metadata": {},
   "outputs": [],
   "source": [
    "import neat\n",
    "\n",
    "def eval_genomes(genomes, config):\n",
    "    game = CasinoGame()\n",
    "    for genome_id, genome in genomes:\n",
    "        net = neat.nn.FeedForwardNetwork.create(genome, config)\n",
    "        genome.fitness = 0\n",
    "\n",
    "        # Play 10 rounds to evaluate fitness\n",
    "        for _ in range(10):\n",
    "            # Define a lambda to pass state to the neural network\n",
    "            action_fn = lambda state: net.activate(state)\n",
    "            chips = game.play_round(action_fn)\n",
    "            genome.fitness += chips"
   ]
  },
  {
   "cell_type": "code",
   "execution_count": 7,
   "metadata": {},
   "outputs": [
    {
     "ename": "Exception",
     "evalue": "No such config file: c:\\Users\\astha\\OneDrive\\Desktop\\nuralcasinoapp\\config.txt",
     "output_type": "error",
     "traceback": [
      "\u001b[1;31m---------------------------------------------------------------------------\u001b[0m",
      "\u001b[1;31mException\u001b[0m                                 Traceback (most recent call last)",
      "Cell \u001b[1;32mIn[7], line 14\u001b[0m\n\u001b[0;32m     11\u001b[0m     \u001b[38;5;28mprint\u001b[39m(\u001b[38;5;124m\"\u001b[39m\u001b[38;5;124mBest bot evolved!\u001b[39m\u001b[38;5;124m\"\u001b[39m)\n\u001b[0;32m     13\u001b[0m \u001b[38;5;28;01mif\u001b[39;00m \u001b[38;5;18m__name__\u001b[39m \u001b[38;5;241m==\u001b[39m \u001b[38;5;124m\"\u001b[39m\u001b[38;5;124m__main__\u001b[39m\u001b[38;5;124m\"\u001b[39m:\n\u001b[1;32m---> 14\u001b[0m     \u001b[43mrun_neat\u001b[49m\u001b[43m(\u001b[49m\u001b[43m)\u001b[49m\n",
      "Cell \u001b[1;32mIn[7], line 2\u001b[0m, in \u001b[0;36mrun_neat\u001b[1;34m()\u001b[0m\n\u001b[0;32m      1\u001b[0m \u001b[38;5;28;01mdef\u001b[39;00m \u001b[38;5;21mrun_neat\u001b[39m():\n\u001b[1;32m----> 2\u001b[0m     config \u001b[38;5;241m=\u001b[39m \u001b[43mneat\u001b[49m\u001b[38;5;241;43m.\u001b[39;49m\u001b[43mConfig\u001b[49m\u001b[43m(\u001b[49m\u001b[43mneat\u001b[49m\u001b[38;5;241;43m.\u001b[39;49m\u001b[43mDefaultGenome\u001b[49m\u001b[43m,\u001b[49m\u001b[43m \u001b[49m\u001b[43mneat\u001b[49m\u001b[38;5;241;43m.\u001b[39;49m\u001b[43mDefaultReproduction\u001b[49m\u001b[43m,\u001b[49m\n\u001b[0;32m      3\u001b[0m \u001b[43m                         \u001b[49m\u001b[43mneat\u001b[49m\u001b[38;5;241;43m.\u001b[39;49m\u001b[43mDefaultSpeciesSet\u001b[49m\u001b[43m,\u001b[49m\u001b[43m \u001b[49m\u001b[43mneat\u001b[49m\u001b[38;5;241;43m.\u001b[39;49m\u001b[43mDefaultStagnation\u001b[49m\u001b[43m,\u001b[49m\n\u001b[0;32m      4\u001b[0m \u001b[43m                         \u001b[49m\u001b[38;5;124;43m'\u001b[39;49m\u001b[38;5;124;43mconfig.txt\u001b[39;49m\u001b[38;5;124;43m'\u001b[39;49m\u001b[43m)\u001b[49m\n\u001b[0;32m      5\u001b[0m     population \u001b[38;5;241m=\u001b[39m neat\u001b[38;5;241m.\u001b[39mPopulation(config)\n\u001b[0;32m      6\u001b[0m     stats \u001b[38;5;241m=\u001b[39m neat\u001b[38;5;241m.\u001b[39mStatisticsReporter()\n",
      "File \u001b[1;32m~\\AppData\\Local\\Packages\\PythonSoftwareFoundation.Python.3.11_qbz5n2kfra8p0\\LocalCache\\local-packages\\Python311\\site-packages\\neat\\config.py:153\u001b[0m, in \u001b[0;36mConfig.__init__\u001b[1;34m(self, genome_type, reproduction_type, species_set_type, stagnation_type, filename)\u001b[0m\n\u001b[0;32m    150\u001b[0m \u001b[38;5;28mself\u001b[39m\u001b[38;5;241m.\u001b[39mstagnation_type \u001b[38;5;241m=\u001b[39m stagnation_type\n\u001b[0;32m    152\u001b[0m \u001b[38;5;28;01mif\u001b[39;00m \u001b[38;5;129;01mnot\u001b[39;00m os\u001b[38;5;241m.\u001b[39mpath\u001b[38;5;241m.\u001b[39misfile(filename):\n\u001b[1;32m--> 153\u001b[0m     \u001b[38;5;28;01mraise\u001b[39;00m \u001b[38;5;167;01mException\u001b[39;00m(\u001b[38;5;124m'\u001b[39m\u001b[38;5;124mNo such config file: \u001b[39m\u001b[38;5;124m'\u001b[39m \u001b[38;5;241m+\u001b[39m os\u001b[38;5;241m.\u001b[39mpath\u001b[38;5;241m.\u001b[39mabspath(filename))\n\u001b[0;32m    155\u001b[0m parameters \u001b[38;5;241m=\u001b[39m ConfigParser()\n\u001b[0;32m    156\u001b[0m \u001b[38;5;28;01mwith\u001b[39;00m \u001b[38;5;28mopen\u001b[39m(filename) \u001b[38;5;28;01mas\u001b[39;00m f:\n",
      "\u001b[1;31mException\u001b[0m: No such config file: c:\\Users\\astha\\OneDrive\\Desktop\\nuralcasinoapp\\config.txt"
     ]
    }
   ],
   "source": [
    "def run_neat():\n",
    "    config = neat.Config(neat.DefaultGenome, neat.DefaultReproduction,\n",
    "                         neat.DefaultSpeciesSet, neat.DefaultStagnation,\n",
    "                         'config.txt')\n",
    "    population = neat.Population(config)\n",
    "    stats = neat.StatisticsReporter()\n",
    "    population.add_reporter(stats)\n",
    "    population.add_reporter(neat.StdOutReporter(True))\n",
    "\n",
    "    winner = population.run(eval_genomes, 50)  # Evolve for 50 generations\n",
    "    print(\"Best bot evolved!\")\n",
    "\n",
    "if __name__ == \"__main__\":\n",
    "    run_neat()"
   ]
  }
 ],
 "metadata": {
  "kernelspec": {
   "display_name": "Python 3",
   "language": "python",
   "name": "python3"
  },
  "language_info": {
   "codemirror_mode": {
    "name": "ipython",
    "version": 3
   },
   "file_extension": ".py",
   "mimetype": "text/x-python",
   "name": "python",
   "nbconvert_exporter": "python",
   "pygments_lexer": "ipython3",
   "version": "3.11.9"
  }
 },
 "nbformat": 4,
 "nbformat_minor": 2
}
